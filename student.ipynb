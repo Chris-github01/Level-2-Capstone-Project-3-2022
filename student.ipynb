{
 "cells": [
  {
   "cell_type": "markdown",
   "id": "692d06a0",
   "metadata": {},
   "source": [
    "## Exploratory Data Analasys of a student performance data set "
   ]
  },
  {
   "cell_type": "markdown",
   "id": "6c7d2ce2",
   "metadata": {},
   "source": [
    "For this EDA we will work with a student performance data set to which a number of questions will be answered and visualisations will be displayed to explain the data.\n",
    "\n",
    "All required packages are imported"
   ]
  },
  {
   "cell_type": "code",
   "execution_count": 1,
   "id": "632997f2",
   "metadata": {},
   "outputs": [],
   "source": [
    "import numpy as np\n",
    "import pandas as pd\n",
    "import matplotlib.pyplot as plt\n",
    "import seaborn as sns\n",
    "%matplotlib inline\n",
    "\n",
    "df = pd.read_csv('student_data.csv')"
   ]
  },
  {
   "cell_type": "markdown",
   "id": "f28e79af",
   "metadata": {},
   "source": [
    "## Student performance data set"
   ]
  },
  {
   "cell_type": "markdown",
   "id": "97b638bf",
   "metadata": {},
   "source": [
    "Using the head() function, the first five rows of the data set is displayed."
   ]
  },
  {
   "cell_type": "code",
   "execution_count": 2,
   "id": "e7530fdd",
   "metadata": {},
   "outputs": [
    {
     "data": {
      "text/html": [
       "<div>\n",
       "<style scoped>\n",
       "    .dataframe tbody tr th:only-of-type {\n",
       "        vertical-align: middle;\n",
       "    }\n",
       "\n",
       "    .dataframe tbody tr th {\n",
       "        vertical-align: top;\n",
       "    }\n",
       "\n",
       "    .dataframe thead th {\n",
       "        text-align: right;\n",
       "    }\n",
       "</style>\n",
       "<table border=\"1\" class=\"dataframe\">\n",
       "  <thead>\n",
       "    <tr style=\"text-align: right;\">\n",
       "      <th></th>\n",
       "      <th>school</th>\n",
       "      <th>sex</th>\n",
       "      <th>age</th>\n",
       "      <th>address</th>\n",
       "      <th>famsize</th>\n",
       "      <th>Pstatus</th>\n",
       "      <th>Medu</th>\n",
       "      <th>Fedu</th>\n",
       "      <th>Mjob</th>\n",
       "      <th>Fjob</th>\n",
       "      <th>...</th>\n",
       "      <th>famrel</th>\n",
       "      <th>freetime</th>\n",
       "      <th>goout</th>\n",
       "      <th>Dalc</th>\n",
       "      <th>Walc</th>\n",
       "      <th>health</th>\n",
       "      <th>absences</th>\n",
       "      <th>G1</th>\n",
       "      <th>G2</th>\n",
       "      <th>G3</th>\n",
       "    </tr>\n",
       "  </thead>\n",
       "  <tbody>\n",
       "    <tr>\n",
       "      <th>0</th>\n",
       "      <td>GP</td>\n",
       "      <td>F</td>\n",
       "      <td>18</td>\n",
       "      <td>U</td>\n",
       "      <td>GT3</td>\n",
       "      <td>A</td>\n",
       "      <td>4</td>\n",
       "      <td>4</td>\n",
       "      <td>at_home</td>\n",
       "      <td>teacher</td>\n",
       "      <td>...</td>\n",
       "      <td>4</td>\n",
       "      <td>3</td>\n",
       "      <td>4</td>\n",
       "      <td>1</td>\n",
       "      <td>1</td>\n",
       "      <td>3</td>\n",
       "      <td>6</td>\n",
       "      <td>5</td>\n",
       "      <td>6</td>\n",
       "      <td>$</td>\n",
       "    </tr>\n",
       "    <tr>\n",
       "      <th>1</th>\n",
       "      <td>GP</td>\n",
       "      <td>F</td>\n",
       "      <td>17</td>\n",
       "      <td>U</td>\n",
       "      <td>GT3</td>\n",
       "      <td>T</td>\n",
       "      <td>1</td>\n",
       "      <td>1</td>\n",
       "      <td>at_home</td>\n",
       "      <td>other</td>\n",
       "      <td>...</td>\n",
       "      <td>5</td>\n",
       "      <td>3</td>\n",
       "      <td>3</td>\n",
       "      <td>1</td>\n",
       "      <td>1</td>\n",
       "      <td>3</td>\n",
       "      <td>4</td>\n",
       "      <td>5</td>\n",
       "      <td>5</td>\n",
       "      <td>6</td>\n",
       "    </tr>\n",
       "    <tr>\n",
       "      <th>2</th>\n",
       "      <td>GP</td>\n",
       "      <td>F</td>\n",
       "      <td>$</td>\n",
       "      <td>U</td>\n",
       "      <td>LE3</td>\n",
       "      <td>T</td>\n",
       "      <td>1</td>\n",
       "      <td>1</td>\n",
       "      <td>at_home</td>\n",
       "      <td>other</td>\n",
       "      <td>...</td>\n",
       "      <td>4</td>\n",
       "      <td>3</td>\n",
       "      <td>2</td>\n",
       "      <td>2</td>\n",
       "      <td>3</td>\n",
       "      <td>3</td>\n",
       "      <td>10</td>\n",
       "      <td>7</td>\n",
       "      <td>$</td>\n",
       "      <td>10</td>\n",
       "    </tr>\n",
       "    <tr>\n",
       "      <th>3</th>\n",
       "      <td>GP</td>\n",
       "      <td>F</td>\n",
       "      <td>15</td>\n",
       "      <td>U</td>\n",
       "      <td>GT3</td>\n",
       "      <td>T</td>\n",
       "      <td>4</td>\n",
       "      <td>2</td>\n",
       "      <td>health</td>\n",
       "      <td>services</td>\n",
       "      <td>...</td>\n",
       "      <td>3</td>\n",
       "      <td>$</td>\n",
       "      <td>2</td>\n",
       "      <td>1</td>\n",
       "      <td>1</td>\n",
       "      <td>5</td>\n",
       "      <td>2</td>\n",
       "      <td>15</td>\n",
       "      <td>14</td>\n",
       "      <td>15</td>\n",
       "    </tr>\n",
       "    <tr>\n",
       "      <th>4</th>\n",
       "      <td>GP</td>\n",
       "      <td>F</td>\n",
       "      <td>16</td>\n",
       "      <td>U</td>\n",
       "      <td>GT3</td>\n",
       "      <td>T</td>\n",
       "      <td>3</td>\n",
       "      <td>3</td>\n",
       "      <td>other</td>\n",
       "      <td>other</td>\n",
       "      <td>...</td>\n",
       "      <td>4</td>\n",
       "      <td>3</td>\n",
       "      <td>2</td>\n",
       "      <td>1</td>\n",
       "      <td>2</td>\n",
       "      <td>5</td>\n",
       "      <td>4</td>\n",
       "      <td>$</td>\n",
       "      <td>10</td>\n",
       "      <td>$</td>\n",
       "    </tr>\n",
       "  </tbody>\n",
       "</table>\n",
       "<p>5 rows × 33 columns</p>\n",
       "</div>"
      ],
      "text/plain": [
       "  school sex age address famsize Pstatus  Medu  Fedu     Mjob      Fjob  ...  \\\n",
       "0     GP   F  18       U     GT3       A     4     4  at_home   teacher  ...   \n",
       "1     GP   F  17       U     GT3       T     1     1  at_home     other  ...   \n",
       "2     GP   F   $       U     LE3       T     1     1  at_home     other  ...   \n",
       "3     GP   F  15       U     GT3       T     4     2   health  services  ...   \n",
       "4     GP   F  16       U     GT3       T     3     3    other     other  ...   \n",
       "\n",
       "  famrel freetime  goout  Dalc  Walc health absences  G1  G2  G3  \n",
       "0      4        3      4     1     1      3        6   5   6   $  \n",
       "1      5        3      3     1     1      3        4   5   5   6  \n",
       "2      4        3      2     2     3      3       10   7   $  10  \n",
       "3      3        $      2     1     1      5        2  15  14  15  \n",
       "4      4        3      2     1     2      5        4   $  10   $  \n",
       "\n",
       "[5 rows x 33 columns]"
      ]
     },
     "execution_count": 2,
     "metadata": {},
     "output_type": "execute_result"
    }
   ],
   "source": [
    "df.head()"
   ]
  },
  {
   "cell_type": "markdown",
   "id": "1900fac8",
   "metadata": {},
   "source": [
    "## Data cleaning "
   ]
  },
  {
   "cell_type": "markdown",
   "id": "f7935843",
   "metadata": {},
   "source": [
    "On inspection, the data contains '$' which needs to be replaced with 'NAN'"
   ]
  },
  {
   "cell_type": "code",
   "execution_count": 3,
   "id": "b9050733",
   "metadata": {},
   "outputs": [
    {
     "data": {
      "text/html": [
       "<div>\n",
       "<style scoped>\n",
       "    .dataframe tbody tr th:only-of-type {\n",
       "        vertical-align: middle;\n",
       "    }\n",
       "\n",
       "    .dataframe tbody tr th {\n",
       "        vertical-align: top;\n",
       "    }\n",
       "\n",
       "    .dataframe thead th {\n",
       "        text-align: right;\n",
       "    }\n",
       "</style>\n",
       "<table border=\"1\" class=\"dataframe\">\n",
       "  <thead>\n",
       "    <tr style=\"text-align: right;\">\n",
       "      <th></th>\n",
       "      <th>school</th>\n",
       "      <th>sex</th>\n",
       "      <th>age</th>\n",
       "      <th>address</th>\n",
       "      <th>famsize</th>\n",
       "      <th>Pstatus</th>\n",
       "      <th>Medu</th>\n",
       "      <th>Fedu</th>\n",
       "      <th>Mjob</th>\n",
       "      <th>Fjob</th>\n",
       "      <th>...</th>\n",
       "      <th>famrel</th>\n",
       "      <th>freetime</th>\n",
       "      <th>goout</th>\n",
       "      <th>Dalc</th>\n",
       "      <th>Walc</th>\n",
       "      <th>health</th>\n",
       "      <th>absences</th>\n",
       "      <th>G1</th>\n",
       "      <th>G2</th>\n",
       "      <th>G3</th>\n",
       "    </tr>\n",
       "  </thead>\n",
       "  <tbody>\n",
       "    <tr>\n",
       "      <th>0</th>\n",
       "      <td>GP</td>\n",
       "      <td>F</td>\n",
       "      <td>18</td>\n",
       "      <td>U</td>\n",
       "      <td>GT3</td>\n",
       "      <td>A</td>\n",
       "      <td>4</td>\n",
       "      <td>4</td>\n",
       "      <td>at_home</td>\n",
       "      <td>teacher</td>\n",
       "      <td>...</td>\n",
       "      <td>4</td>\n",
       "      <td>3</td>\n",
       "      <td>4</td>\n",
       "      <td>1</td>\n",
       "      <td>1</td>\n",
       "      <td>3</td>\n",
       "      <td>6</td>\n",
       "      <td>5</td>\n",
       "      <td>6</td>\n",
       "      <td>NaN</td>\n",
       "    </tr>\n",
       "    <tr>\n",
       "      <th>1</th>\n",
       "      <td>GP</td>\n",
       "      <td>F</td>\n",
       "      <td>17</td>\n",
       "      <td>U</td>\n",
       "      <td>GT3</td>\n",
       "      <td>T</td>\n",
       "      <td>1</td>\n",
       "      <td>1</td>\n",
       "      <td>at_home</td>\n",
       "      <td>other</td>\n",
       "      <td>...</td>\n",
       "      <td>5</td>\n",
       "      <td>3</td>\n",
       "      <td>3</td>\n",
       "      <td>1</td>\n",
       "      <td>1</td>\n",
       "      <td>3</td>\n",
       "      <td>4</td>\n",
       "      <td>5</td>\n",
       "      <td>5</td>\n",
       "      <td>6</td>\n",
       "    </tr>\n",
       "    <tr>\n",
       "      <th>2</th>\n",
       "      <td>GP</td>\n",
       "      <td>F</td>\n",
       "      <td>NaN</td>\n",
       "      <td>U</td>\n",
       "      <td>LE3</td>\n",
       "      <td>T</td>\n",
       "      <td>1</td>\n",
       "      <td>1</td>\n",
       "      <td>at_home</td>\n",
       "      <td>other</td>\n",
       "      <td>...</td>\n",
       "      <td>4</td>\n",
       "      <td>3</td>\n",
       "      <td>2</td>\n",
       "      <td>2</td>\n",
       "      <td>3</td>\n",
       "      <td>3</td>\n",
       "      <td>10</td>\n",
       "      <td>7</td>\n",
       "      <td>NaN</td>\n",
       "      <td>10</td>\n",
       "    </tr>\n",
       "    <tr>\n",
       "      <th>3</th>\n",
       "      <td>GP</td>\n",
       "      <td>F</td>\n",
       "      <td>15</td>\n",
       "      <td>U</td>\n",
       "      <td>GT3</td>\n",
       "      <td>T</td>\n",
       "      <td>4</td>\n",
       "      <td>2</td>\n",
       "      <td>health</td>\n",
       "      <td>services</td>\n",
       "      <td>...</td>\n",
       "      <td>3</td>\n",
       "      <td>NaN</td>\n",
       "      <td>2</td>\n",
       "      <td>1</td>\n",
       "      <td>1</td>\n",
       "      <td>5</td>\n",
       "      <td>2</td>\n",
       "      <td>15</td>\n",
       "      <td>14</td>\n",
       "      <td>15</td>\n",
       "    </tr>\n",
       "    <tr>\n",
       "      <th>4</th>\n",
       "      <td>GP</td>\n",
       "      <td>F</td>\n",
       "      <td>16</td>\n",
       "      <td>U</td>\n",
       "      <td>GT3</td>\n",
       "      <td>T</td>\n",
       "      <td>3</td>\n",
       "      <td>3</td>\n",
       "      <td>other</td>\n",
       "      <td>other</td>\n",
       "      <td>...</td>\n",
       "      <td>4</td>\n",
       "      <td>3</td>\n",
       "      <td>2</td>\n",
       "      <td>1</td>\n",
       "      <td>2</td>\n",
       "      <td>5</td>\n",
       "      <td>4</td>\n",
       "      <td>NaN</td>\n",
       "      <td>10</td>\n",
       "      <td>NaN</td>\n",
       "    </tr>\n",
       "  </tbody>\n",
       "</table>\n",
       "<p>5 rows × 33 columns</p>\n",
       "</div>"
      ],
      "text/plain": [
       "  school sex  age address famsize Pstatus  Medu  Fedu     Mjob      Fjob  ...  \\\n",
       "0     GP   F   18       U     GT3       A     4     4  at_home   teacher  ...   \n",
       "1     GP   F   17       U     GT3       T     1     1  at_home     other  ...   \n",
       "2     GP   F  NaN       U     LE3       T     1     1  at_home     other  ...   \n",
       "3     GP   F   15       U     GT3       T     4     2   health  services  ...   \n",
       "4     GP   F   16       U     GT3       T     3     3    other     other  ...   \n",
       "\n",
       "  famrel freetime  goout  Dalc  Walc health absences   G1   G2   G3  \n",
       "0      4        3      4     1     1      3        6    5    6  NaN  \n",
       "1      5        3      3     1     1      3        4    5    5    6  \n",
       "2      4        3      2     2     3      3       10    7  NaN   10  \n",
       "3      3      NaN      2     1     1      5        2   15   14   15  \n",
       "4      4        3      2     1     2      5        4  NaN   10  NaN  \n",
       "\n",
       "[5 rows x 33 columns]"
      ]
     },
     "execution_count": 3,
     "metadata": {},
     "output_type": "execute_result"
    }
   ],
   "source": [
    "df_new = df.replace('$', np.NAN)\n",
    "df_new.head()"
   ]
  },
  {
   "cell_type": "markdown",
   "id": "cb8d85f9",
   "metadata": {},
   "source": [
    "## Missing data "
   ]
  },
  {
   "cell_type": "markdown",
   "id": "92ed407a",
   "metadata": {},
   "source": [
    "### Missing data in list form "
   ]
  },
  {
   "cell_type": "markdown",
   "id": "7f19c329",
   "metadata": {},
   "source": [
    "We will now check for missing data in the data set by using the .isnull() and .sum() functions."
   ]
  },
  {
   "cell_type": "code",
   "execution_count": 4,
   "id": "39c83d43",
   "metadata": {},
   "outputs": [
    {
     "data": {
      "text/plain": [
       "school         0\n",
       "sex            0\n",
       "age           17\n",
       "address        0\n",
       "famsize        0\n",
       "Pstatus        0\n",
       "Medu           0\n",
       "Fedu           0\n",
       "Mjob           0\n",
       "Fjob           0\n",
       "reason         0\n",
       "guardian       0\n",
       "traveltime     0\n",
       "studytime      0\n",
       "failures       0\n",
       "schoolsup      0\n",
       "famsup         0\n",
       "paid           0\n",
       "activities     0\n",
       "nursery        0\n",
       "higher         0\n",
       "internet       0\n",
       "romantic       0\n",
       "famrel         0\n",
       "freetime      20\n",
       "goout          0\n",
       "Dalc           0\n",
       "Walc           0\n",
       "health         0\n",
       "absences       0\n",
       "G1            18\n",
       "G2            18\n",
       "G3            17\n",
       "dtype: int64"
      ]
     },
     "execution_count": 4,
     "metadata": {},
     "output_type": "execute_result"
    }
   ],
   "source": [
    "df_new.isnull().sum()"
   ]
  },
  {
   "cell_type": "markdown",
   "id": "8c45ff0b",
   "metadata": {},
   "source": [
    "### Missing data in table form "
   ]
  },
  {
   "cell_type": "markdown",
   "id": "36aeff61",
   "metadata": {},
   "source": [
    "The missing data can also be displayed in table form as follows:"
   ]
  },
  {
   "cell_type": "code",
   "execution_count": 5,
   "id": "1c2a9bd7",
   "metadata": {},
   "outputs": [
    {
     "data": {
      "text/html": [
       "<div>\n",
       "<style scoped>\n",
       "    .dataframe tbody tr th:only-of-type {\n",
       "        vertical-align: middle;\n",
       "    }\n",
       "\n",
       "    .dataframe tbody tr th {\n",
       "        vertical-align: top;\n",
       "    }\n",
       "\n",
       "    .dataframe thead th {\n",
       "        text-align: right;\n",
       "    }\n",
       "</style>\n",
       "<table border=\"1\" class=\"dataframe\">\n",
       "  <thead>\n",
       "    <tr style=\"text-align: right;\">\n",
       "      <th></th>\n",
       "      <th>school</th>\n",
       "      <th>sex</th>\n",
       "      <th>age</th>\n",
       "      <th>address</th>\n",
       "      <th>famsize</th>\n",
       "      <th>Pstatus</th>\n",
       "      <th>Medu</th>\n",
       "      <th>Fedu</th>\n",
       "      <th>Mjob</th>\n",
       "      <th>Fjob</th>\n",
       "      <th>...</th>\n",
       "      <th>famrel</th>\n",
       "      <th>freetime</th>\n",
       "      <th>goout</th>\n",
       "      <th>Dalc</th>\n",
       "      <th>Walc</th>\n",
       "      <th>health</th>\n",
       "      <th>absences</th>\n",
       "      <th>G1</th>\n",
       "      <th>G2</th>\n",
       "      <th>G3</th>\n",
       "    </tr>\n",
       "  </thead>\n",
       "  <tbody>\n",
       "    <tr>\n",
       "      <th>0</th>\n",
       "      <td>False</td>\n",
       "      <td>False</td>\n",
       "      <td>False</td>\n",
       "      <td>False</td>\n",
       "      <td>False</td>\n",
       "      <td>False</td>\n",
       "      <td>False</td>\n",
       "      <td>False</td>\n",
       "      <td>False</td>\n",
       "      <td>False</td>\n",
       "      <td>...</td>\n",
       "      <td>False</td>\n",
       "      <td>False</td>\n",
       "      <td>False</td>\n",
       "      <td>False</td>\n",
       "      <td>False</td>\n",
       "      <td>False</td>\n",
       "      <td>False</td>\n",
       "      <td>False</td>\n",
       "      <td>False</td>\n",
       "      <td>True</td>\n",
       "    </tr>\n",
       "    <tr>\n",
       "      <th>1</th>\n",
       "      <td>False</td>\n",
       "      <td>False</td>\n",
       "      <td>False</td>\n",
       "      <td>False</td>\n",
       "      <td>False</td>\n",
       "      <td>False</td>\n",
       "      <td>False</td>\n",
       "      <td>False</td>\n",
       "      <td>False</td>\n",
       "      <td>False</td>\n",
       "      <td>...</td>\n",
       "      <td>False</td>\n",
       "      <td>False</td>\n",
       "      <td>False</td>\n",
       "      <td>False</td>\n",
       "      <td>False</td>\n",
       "      <td>False</td>\n",
       "      <td>False</td>\n",
       "      <td>False</td>\n",
       "      <td>False</td>\n",
       "      <td>False</td>\n",
       "    </tr>\n",
       "    <tr>\n",
       "      <th>2</th>\n",
       "      <td>False</td>\n",
       "      <td>False</td>\n",
       "      <td>True</td>\n",
       "      <td>False</td>\n",
       "      <td>False</td>\n",
       "      <td>False</td>\n",
       "      <td>False</td>\n",
       "      <td>False</td>\n",
       "      <td>False</td>\n",
       "      <td>False</td>\n",
       "      <td>...</td>\n",
       "      <td>False</td>\n",
       "      <td>False</td>\n",
       "      <td>False</td>\n",
       "      <td>False</td>\n",
       "      <td>False</td>\n",
       "      <td>False</td>\n",
       "      <td>False</td>\n",
       "      <td>False</td>\n",
       "      <td>True</td>\n",
       "      <td>False</td>\n",
       "    </tr>\n",
       "    <tr>\n",
       "      <th>3</th>\n",
       "      <td>False</td>\n",
       "      <td>False</td>\n",
       "      <td>False</td>\n",
       "      <td>False</td>\n",
       "      <td>False</td>\n",
       "      <td>False</td>\n",
       "      <td>False</td>\n",
       "      <td>False</td>\n",
       "      <td>False</td>\n",
       "      <td>False</td>\n",
       "      <td>...</td>\n",
       "      <td>False</td>\n",
       "      <td>True</td>\n",
       "      <td>False</td>\n",
       "      <td>False</td>\n",
       "      <td>False</td>\n",
       "      <td>False</td>\n",
       "      <td>False</td>\n",
       "      <td>False</td>\n",
       "      <td>False</td>\n",
       "      <td>False</td>\n",
       "    </tr>\n",
       "    <tr>\n",
       "      <th>4</th>\n",
       "      <td>False</td>\n",
       "      <td>False</td>\n",
       "      <td>False</td>\n",
       "      <td>False</td>\n",
       "      <td>False</td>\n",
       "      <td>False</td>\n",
       "      <td>False</td>\n",
       "      <td>False</td>\n",
       "      <td>False</td>\n",
       "      <td>False</td>\n",
       "      <td>...</td>\n",
       "      <td>False</td>\n",
       "      <td>False</td>\n",
       "      <td>False</td>\n",
       "      <td>False</td>\n",
       "      <td>False</td>\n",
       "      <td>False</td>\n",
       "      <td>False</td>\n",
       "      <td>True</td>\n",
       "      <td>False</td>\n",
       "      <td>True</td>\n",
       "    </tr>\n",
       "    <tr>\n",
       "      <th>...</th>\n",
       "      <td>...</td>\n",
       "      <td>...</td>\n",
       "      <td>...</td>\n",
       "      <td>...</td>\n",
       "      <td>...</td>\n",
       "      <td>...</td>\n",
       "      <td>...</td>\n",
       "      <td>...</td>\n",
       "      <td>...</td>\n",
       "      <td>...</td>\n",
       "      <td>...</td>\n",
       "      <td>...</td>\n",
       "      <td>...</td>\n",
       "      <td>...</td>\n",
       "      <td>...</td>\n",
       "      <td>...</td>\n",
       "      <td>...</td>\n",
       "      <td>...</td>\n",
       "      <td>...</td>\n",
       "      <td>...</td>\n",
       "      <td>...</td>\n",
       "    </tr>\n",
       "    <tr>\n",
       "      <th>390</th>\n",
       "      <td>False</td>\n",
       "      <td>False</td>\n",
       "      <td>False</td>\n",
       "      <td>False</td>\n",
       "      <td>False</td>\n",
       "      <td>False</td>\n",
       "      <td>False</td>\n",
       "      <td>False</td>\n",
       "      <td>False</td>\n",
       "      <td>False</td>\n",
       "      <td>...</td>\n",
       "      <td>False</td>\n",
       "      <td>True</td>\n",
       "      <td>False</td>\n",
       "      <td>False</td>\n",
       "      <td>False</td>\n",
       "      <td>False</td>\n",
       "      <td>False</td>\n",
       "      <td>False</td>\n",
       "      <td>False</td>\n",
       "      <td>False</td>\n",
       "    </tr>\n",
       "    <tr>\n",
       "      <th>391</th>\n",
       "      <td>False</td>\n",
       "      <td>False</td>\n",
       "      <td>False</td>\n",
       "      <td>False</td>\n",
       "      <td>False</td>\n",
       "      <td>False</td>\n",
       "      <td>False</td>\n",
       "      <td>False</td>\n",
       "      <td>False</td>\n",
       "      <td>False</td>\n",
       "      <td>...</td>\n",
       "      <td>False</td>\n",
       "      <td>False</td>\n",
       "      <td>False</td>\n",
       "      <td>False</td>\n",
       "      <td>False</td>\n",
       "      <td>False</td>\n",
       "      <td>False</td>\n",
       "      <td>False</td>\n",
       "      <td>False</td>\n",
       "      <td>False</td>\n",
       "    </tr>\n",
       "    <tr>\n",
       "      <th>392</th>\n",
       "      <td>False</td>\n",
       "      <td>False</td>\n",
       "      <td>False</td>\n",
       "      <td>False</td>\n",
       "      <td>False</td>\n",
       "      <td>False</td>\n",
       "      <td>False</td>\n",
       "      <td>False</td>\n",
       "      <td>False</td>\n",
       "      <td>False</td>\n",
       "      <td>...</td>\n",
       "      <td>False</td>\n",
       "      <td>False</td>\n",
       "      <td>False</td>\n",
       "      <td>False</td>\n",
       "      <td>False</td>\n",
       "      <td>False</td>\n",
       "      <td>False</td>\n",
       "      <td>False</td>\n",
       "      <td>False</td>\n",
       "      <td>True</td>\n",
       "    </tr>\n",
       "    <tr>\n",
       "      <th>393</th>\n",
       "      <td>False</td>\n",
       "      <td>False</td>\n",
       "      <td>False</td>\n",
       "      <td>False</td>\n",
       "      <td>False</td>\n",
       "      <td>False</td>\n",
       "      <td>False</td>\n",
       "      <td>False</td>\n",
       "      <td>False</td>\n",
       "      <td>False</td>\n",
       "      <td>...</td>\n",
       "      <td>False</td>\n",
       "      <td>False</td>\n",
       "      <td>False</td>\n",
       "      <td>False</td>\n",
       "      <td>False</td>\n",
       "      <td>False</td>\n",
       "      <td>False</td>\n",
       "      <td>False</td>\n",
       "      <td>False</td>\n",
       "      <td>False</td>\n",
       "    </tr>\n",
       "    <tr>\n",
       "      <th>394</th>\n",
       "      <td>False</td>\n",
       "      <td>False</td>\n",
       "      <td>True</td>\n",
       "      <td>False</td>\n",
       "      <td>False</td>\n",
       "      <td>False</td>\n",
       "      <td>False</td>\n",
       "      <td>False</td>\n",
       "      <td>False</td>\n",
       "      <td>False</td>\n",
       "      <td>...</td>\n",
       "      <td>False</td>\n",
       "      <td>False</td>\n",
       "      <td>False</td>\n",
       "      <td>False</td>\n",
       "      <td>False</td>\n",
       "      <td>False</td>\n",
       "      <td>False</td>\n",
       "      <td>False</td>\n",
       "      <td>False</td>\n",
       "      <td>False</td>\n",
       "    </tr>\n",
       "  </tbody>\n",
       "</table>\n",
       "<p>395 rows × 33 columns</p>\n",
       "</div>"
      ],
      "text/plain": [
       "     school    sex    age  address  famsize  Pstatus   Medu   Fedu   Mjob  \\\n",
       "0     False  False  False    False    False    False  False  False  False   \n",
       "1     False  False  False    False    False    False  False  False  False   \n",
       "2     False  False   True    False    False    False  False  False  False   \n",
       "3     False  False  False    False    False    False  False  False  False   \n",
       "4     False  False  False    False    False    False  False  False  False   \n",
       "..      ...    ...    ...      ...      ...      ...    ...    ...    ...   \n",
       "390   False  False  False    False    False    False  False  False  False   \n",
       "391   False  False  False    False    False    False  False  False  False   \n",
       "392   False  False  False    False    False    False  False  False  False   \n",
       "393   False  False  False    False    False    False  False  False  False   \n",
       "394   False  False   True    False    False    False  False  False  False   \n",
       "\n",
       "      Fjob  ...  famrel  freetime  goout   Dalc   Walc  health  absences  \\\n",
       "0    False  ...   False     False  False  False  False   False     False   \n",
       "1    False  ...   False     False  False  False  False   False     False   \n",
       "2    False  ...   False     False  False  False  False   False     False   \n",
       "3    False  ...   False      True  False  False  False   False     False   \n",
       "4    False  ...   False     False  False  False  False   False     False   \n",
       "..     ...  ...     ...       ...    ...    ...    ...     ...       ...   \n",
       "390  False  ...   False      True  False  False  False   False     False   \n",
       "391  False  ...   False     False  False  False  False   False     False   \n",
       "392  False  ...   False     False  False  False  False   False     False   \n",
       "393  False  ...   False     False  False  False  False   False     False   \n",
       "394  False  ...   False     False  False  False  False   False     False   \n",
       "\n",
       "        G1     G2     G3  \n",
       "0    False  False   True  \n",
       "1    False  False  False  \n",
       "2    False   True  False  \n",
       "3    False  False  False  \n",
       "4     True  False   True  \n",
       "..     ...    ...    ...  \n",
       "390  False  False  False  \n",
       "391  False  False  False  \n",
       "392  False  False   True  \n",
       "393  False  False  False  \n",
       "394  False  False  False  \n",
       "\n",
       "[395 rows x 33 columns]"
      ]
     },
     "execution_count": 5,
     "metadata": {},
     "output_type": "execute_result"
    }
   ],
   "source": [
    "df_new.isnull()"
   ]
  },
  {
   "cell_type": "markdown",
   "id": "45bc5d68",
   "metadata": {},
   "source": [
    "If a value is equal to 'True' in the table above, it means it is missing."
   ]
  },
  {
   "cell_type": "markdown",
   "id": "f98e9a21",
   "metadata": {},
   "source": [
    "### Missing data in graphical form"
   ]
  },
  {
   "cell_type": "markdown",
   "id": "431ad9ee",
   "metadata": {},
   "source": [
    "Using seaborn visualization, we can see the missing data represented as yellow lines"
   ]
  },
  {
   "cell_type": "code",
   "execution_count": 6,
   "id": "4b394071",
   "metadata": {},
   "outputs": [
    {
     "data": {
      "text/plain": [
       "<AxesSubplot:>"
      ]
     },
     "execution_count": 6,
     "metadata": {},
     "output_type": "execute_result"
    },
    {
     "data": {
      "image/png": "[encoded data removed]",
      "text/plain": [
       "<Figure size 720x720 with 1 Axes>"
      ]
     },
     "metadata": {
      "needs_background": "light"
     },
     "output_type": "display_data"
    }
   ],
   "source": [
    "plt.figure(figsize=(10, 10))\n",
    "\n",
    "sns.heatmap(df_new.isnull(),yticklabels=False, cbar=False, cmap= 'viridis')"
   ]
  },
  {
   "cell_type": "markdown",
   "id": "b83e8584",
   "metadata": {},
   "source": [
    "## Statistics of the data set  "
   ]
  },
  {
   "cell_type": "markdown",
   "id": "d450b5d2",
   "metadata": {},
   "source": [
    "The following table shows the statistics of the data set. We can use the mean values to replace the missing data in the data set."
   ]
  },
  {
   "cell_type": "code",
   "execution_count": 7,
   "id": "6efa88a7",
   "metadata": {},
   "outputs": [
    {
     "data": {
      "text/html": [
       "<div>\n",
       "<style scoped>\n",
       "    .dataframe tbody tr th:only-of-type {\n",
       "        vertical-align: middle;\n",
       "    }\n",
       "\n",
       "    .dataframe tbody tr th {\n",
       "        vertical-align: top;\n",
       "    }\n",
       "\n",
       "    .dataframe thead th {\n",
       "        text-align: right;\n",
       "    }\n",
       "</style>\n",
       "<table border=\"1\" class=\"dataframe\">\n",
       "  <thead>\n",
       "    <tr style=\"text-align: right;\">\n",
       "      <th></th>\n",
       "      <th>Medu</th>\n",
       "      <th>Fedu</th>\n",
       "      <th>traveltime</th>\n",
       "      <th>studytime</th>\n",
       "      <th>failures</th>\n",
       "      <th>famrel</th>\n",
       "      <th>goout</th>\n",
       "      <th>Dalc</th>\n",
       "      <th>Walc</th>\n",
       "      <th>health</th>\n",
       "      <th>absences</th>\n",
       "    </tr>\n",
       "  </thead>\n",
       "  <tbody>\n",
       "    <tr>\n",
       "      <th>count</th>\n",
       "      <td>395.000000</td>\n",
       "      <td>395.000000</td>\n",
       "      <td>395.000000</td>\n",
       "      <td>395.000000</td>\n",
       "      <td>395.000000</td>\n",
       "      <td>395.000000</td>\n",
       "      <td>395.000000</td>\n",
       "      <td>395.000000</td>\n",
       "      <td>395.000000</td>\n",
       "      <td>395.000000</td>\n",
       "      <td>395.000000</td>\n",
       "    </tr>\n",
       "    <tr>\n",
       "      <th>mean</th>\n",
       "      <td>2.749367</td>\n",
       "      <td>2.521519</td>\n",
       "      <td>1.448101</td>\n",
       "      <td>2.035443</td>\n",
       "      <td>0.334177</td>\n",
       "      <td>3.944304</td>\n",
       "      <td>3.108861</td>\n",
       "      <td>1.481013</td>\n",
       "      <td>2.291139</td>\n",
       "      <td>3.554430</td>\n",
       "      <td>5.713924</td>\n",
       "    </tr>\n",
       "    <tr>\n",
       "      <th>std</th>\n",
       "      <td>1.094735</td>\n",
       "      <td>1.088201</td>\n",
       "      <td>0.697505</td>\n",
       "      <td>0.839240</td>\n",
       "      <td>0.743651</td>\n",
       "      <td>0.896659</td>\n",
       "      <td>1.113278</td>\n",
       "      <td>0.890741</td>\n",
       "      <td>1.287897</td>\n",
       "      <td>1.390303</td>\n",
       "      <td>8.000107</td>\n",
       "    </tr>\n",
       "    <tr>\n",
       "      <th>min</th>\n",
       "      <td>0.000000</td>\n",
       "      <td>0.000000</td>\n",
       "      <td>1.000000</td>\n",
       "      <td>1.000000</td>\n",
       "      <td>0.000000</td>\n",
       "      <td>1.000000</td>\n",
       "      <td>1.000000</td>\n",
       "      <td>1.000000</td>\n",
       "      <td>1.000000</td>\n",
       "      <td>1.000000</td>\n",
       "      <td>0.000000</td>\n",
       "    </tr>\n",
       "    <tr>\n",
       "      <th>25%</th>\n",
       "      <td>2.000000</td>\n",
       "      <td>2.000000</td>\n",
       "      <td>1.000000</td>\n",
       "      <td>1.000000</td>\n",
       "      <td>0.000000</td>\n",
       "      <td>4.000000</td>\n",
       "      <td>2.000000</td>\n",
       "      <td>1.000000</td>\n",
       "      <td>1.000000</td>\n",
       "      <td>3.000000</td>\n",
       "      <td>0.000000</td>\n",
       "    </tr>\n",
       "    <tr>\n",
       "      <th>50%</th>\n",
       "      <td>3.000000</td>\n",
       "      <td>2.000000</td>\n",
       "      <td>1.000000</td>\n",
       "      <td>2.000000</td>\n",
       "      <td>0.000000</td>\n",
       "      <td>4.000000</td>\n",
       "      <td>3.000000</td>\n",
       "      <td>1.000000</td>\n",
       "      <td>2.000000</td>\n",
       "      <td>4.000000</td>\n",
       "      <td>4.000000</td>\n",
       "    </tr>\n",
       "    <tr>\n",
       "      <th>75%</th>\n",
       "      <td>4.000000</td>\n",
       "      <td>3.000000</td>\n",
       "      <td>2.000000</td>\n",
       "      <td>2.000000</td>\n",
       "      <td>0.000000</td>\n",
       "      <td>5.000000</td>\n",
       "      <td>4.000000</td>\n",
       "      <td>2.000000</td>\n",
       "      <td>3.000000</td>\n",
       "      <td>5.000000</td>\n",
       "      <td>8.000000</td>\n",
       "    </tr>\n",
       "    <tr>\n",
       "      <th>max</th>\n",
       "      <td>4.000000</td>\n",
       "      <td>4.000000</td>\n",
       "      <td>4.000000</td>\n",
       "      <td>4.000000</td>\n",
       "      <td>3.000000</td>\n",
       "      <td>5.000000</td>\n",
       "      <td>5.000000</td>\n",
       "      <td>5.000000</td>\n",
       "      <td>5.000000</td>\n",
       "      <td>5.000000</td>\n",
       "      <td>75.000000</td>\n",
       "    </tr>\n",
       "  </tbody>\n",
       "</table>\n",
       "</div>"
      ],
      "text/plain": [
       "             Medu        Fedu  traveltime   studytime    failures      famrel  \\\n",
       "count  395.000000  395.000000  395.000000  395.000000  395.000000  395.000000   \n",
       "mean     2.749367    2.521519    1.448101    2.035443    0.334177    3.944304   \n",
       "std      1.094735    1.088201    0.697505    0.839240    0.743651    0.896659   \n",
       "min      0.000000    0.000000    1.000000    1.000000    0.000000    1.000000   \n",
       "25%      2.000000    2.000000    1.000000    1.000000    0.000000    4.000000   \n",
       "50%      3.000000    2.000000    1.000000    2.000000    0.000000    4.000000   \n",
       "75%      4.000000    3.000000    2.000000    2.000000    0.000000    5.000000   \n",
       "max      4.000000    4.000000    4.000000    4.000000    3.000000    5.000000   \n",
       "\n",
       "            goout        Dalc        Walc      health    absences  \n",
       "count  395.000000  395.000000  395.000000  395.000000  395.000000  \n",
       "mean     3.108861    1.481013    2.291139    3.554430    5.713924  \n",
       "std      1.113278    0.890741    1.287897    1.390303    8.000107  \n",
       "min      1.000000    1.000000    1.000000    1.000000    0.000000  \n",
       "25%      2.000000    1.000000    1.000000    3.000000    0.000000  \n",
       "50%      3.000000    1.000000    2.000000    4.000000    4.000000  \n",
       "75%      4.000000    2.000000    3.000000    5.000000    8.000000  \n",
       "max      5.000000    5.000000    5.000000    5.000000   75.000000  "
      ]
     },
     "execution_count": 7,
     "metadata": {},
     "output_type": "execute_result"
    }
   ],
   "source": [
    "df.describe()"
   ]
  },
  {
   "cell_type": "markdown",
   "id": "9f1f95e7",
   "metadata": {},
   "source": [
    "### age "
   ]
  },
  {
   "cell_type": "code",
   "execution_count": 8,
   "id": "a68e4e37",
   "metadata": {},
   "outputs": [],
   "source": [
    "df_n = df[df['age'] != '$']\n",
    "\n",
    "mean = df_n['age'].astype(int).mean()\n",
    "\n",
    "df['age'] = df['age'].replace('$', mean).astype(int)"
   ]
  },
  {
   "cell_type": "markdown",
   "id": "260b9590",
   "metadata": {},
   "source": [
    "### freetime"
   ]
  },
  {
   "cell_type": "code",
   "execution_count": 9,
   "id": "d623acef",
   "metadata": {},
   "outputs": [],
   "source": [
    "df_n = df[df['freetime'] != '$']\n",
    "\n",
    "mean = df_n['freetime'].astype(int).mean()\n",
    "\n",
    "df['freetime'] = df['freetime'].replace('$', mean).astype(int)"
   ]
  },
  {
   "cell_type": "markdown",
   "id": "b65c643a",
   "metadata": {},
   "source": [
    "### G1 "
   ]
  },
  {
   "cell_type": "code",
   "execution_count": 10,
   "id": "4272f333",
   "metadata": {},
   "outputs": [],
   "source": [
    "df_n = df[df['G1'] != '$']\n",
    "\n",
    "mean = df_n['G1'].astype(int).mean()\n",
    "\n",
    "df['G1'] = df['G1'].replace('$', mean).astype(int)"
   ]
  },
  {
   "cell_type": "markdown",
   "id": "bb11083c",
   "metadata": {},
   "source": [
    "### G2 "
   ]
  },
  {
   "cell_type": "code",
   "execution_count": 11,
   "id": "d7ea5dd9",
   "metadata": {},
   "outputs": [],
   "source": [
    "df_n = df[df['G2'] != '$']\n",
    "\n",
    "mean = df_n['G2'].astype(int).mean()\n",
    "\n",
    "df['G2'] = df['G2'].replace('$', mean).astype(int)"
   ]
  },
  {
   "cell_type": "markdown",
   "id": "96603362",
   "metadata": {},
   "source": [
    "### G3"
   ]
  },
  {
   "cell_type": "code",
   "execution_count": 12,
   "id": "4f28dfd4",
   "metadata": {},
   "outputs": [],
   "source": [
    "df_n = df[df['G3'] != '$']\n",
    "\n",
    "mean = df_n['G3'].astype(int).mean()\n",
    "\n",
    "df['G3'] = df['G3'].replace('$', mean).astype(int)"
   ]
  },
  {
   "cell_type": "markdown",
   "id": "264d481b",
   "metadata": {},
   "source": [
    "### Final grade "
   ]
  },
  {
   "cell_type": "code",
   "execution_count": 13,
   "id": "605979ee",
   "metadata": {},
   "outputs": [
    {
     "data": {
      "text/html": [
       "<div>\n",
       "<style scoped>\n",
       "    .dataframe tbody tr th:only-of-type {\n",
       "        vertical-align: middle;\n",
       "    }\n",
       "\n",
       "    .dataframe tbody tr th {\n",
       "        vertical-align: top;\n",
       "    }\n",
       "\n",
       "    .dataframe thead th {\n",
       "        text-align: right;\n",
       "    }\n",
       "</style>\n",
       "<table border=\"1\" class=\"dataframe\">\n",
       "  <thead>\n",
       "    <tr style=\"text-align: right;\">\n",
       "      <th></th>\n",
       "      <th>school</th>\n",
       "      <th>sex</th>\n",
       "      <th>age</th>\n",
       "      <th>address</th>\n",
       "      <th>famsize</th>\n",
       "      <th>Pstatus</th>\n",
       "      <th>Medu</th>\n",
       "      <th>Fedu</th>\n",
       "      <th>Mjob</th>\n",
       "      <th>Fjob</th>\n",
       "      <th>...</th>\n",
       "      <th>freetime</th>\n",
       "      <th>goout</th>\n",
       "      <th>Dalc</th>\n",
       "      <th>Walc</th>\n",
       "      <th>health</th>\n",
       "      <th>absences</th>\n",
       "      <th>G1</th>\n",
       "      <th>G2</th>\n",
       "      <th>G3</th>\n",
       "      <th>G_Final</th>\n",
       "    </tr>\n",
       "  </thead>\n",
       "  <tbody>\n",
       "    <tr>\n",
       "      <th>0</th>\n",
       "      <td>GP</td>\n",
       "      <td>F</td>\n",
       "      <td>18</td>\n",
       "      <td>U</td>\n",
       "      <td>GT3</td>\n",
       "      <td>A</td>\n",
       "      <td>4</td>\n",
       "      <td>4</td>\n",
       "      <td>at_home</td>\n",
       "      <td>teacher</td>\n",
       "      <td>...</td>\n",
       "      <td>3</td>\n",
       "      <td>4</td>\n",
       "      <td>1</td>\n",
       "      <td>1</td>\n",
       "      <td>3</td>\n",
       "      <td>6</td>\n",
       "      <td>5</td>\n",
       "      <td>6</td>\n",
       "      <td>10</td>\n",
       "      <td>7.000000</td>\n",
       "    </tr>\n",
       "    <tr>\n",
       "      <th>1</th>\n",
       "      <td>GP</td>\n",
       "      <td>F</td>\n",
       "      <td>17</td>\n",
       "      <td>U</td>\n",
       "      <td>GT3</td>\n",
       "      <td>T</td>\n",
       "      <td>1</td>\n",
       "      <td>1</td>\n",
       "      <td>at_home</td>\n",
       "      <td>other</td>\n",
       "      <td>...</td>\n",
       "      <td>3</td>\n",
       "      <td>3</td>\n",
       "      <td>1</td>\n",
       "      <td>1</td>\n",
       "      <td>3</td>\n",
       "      <td>4</td>\n",
       "      <td>5</td>\n",
       "      <td>5</td>\n",
       "      <td>6</td>\n",
       "      <td>5.333333</td>\n",
       "    </tr>\n",
       "    <tr>\n",
       "      <th>2</th>\n",
       "      <td>GP</td>\n",
       "      <td>F</td>\n",
       "      <td>16</td>\n",
       "      <td>U</td>\n",
       "      <td>LE3</td>\n",
       "      <td>T</td>\n",
       "      <td>1</td>\n",
       "      <td>1</td>\n",
       "      <td>at_home</td>\n",
       "      <td>other</td>\n",
       "      <td>...</td>\n",
       "      <td>3</td>\n",
       "      <td>2</td>\n",
       "      <td>2</td>\n",
       "      <td>3</td>\n",
       "      <td>3</td>\n",
       "      <td>10</td>\n",
       "      <td>7</td>\n",
       "      <td>10</td>\n",
       "      <td>10</td>\n",
       "      <td>9.000000</td>\n",
       "    </tr>\n",
       "    <tr>\n",
       "      <th>3</th>\n",
       "      <td>GP</td>\n",
       "      <td>F</td>\n",
       "      <td>15</td>\n",
       "      <td>U</td>\n",
       "      <td>GT3</td>\n",
       "      <td>T</td>\n",
       "      <td>4</td>\n",
       "      <td>2</td>\n",
       "      <td>health</td>\n",
       "      <td>services</td>\n",
       "      <td>...</td>\n",
       "      <td>3</td>\n",
       "      <td>2</td>\n",
       "      <td>1</td>\n",
       "      <td>1</td>\n",
       "      <td>5</td>\n",
       "      <td>2</td>\n",
       "      <td>15</td>\n",
       "      <td>14</td>\n",
       "      <td>15</td>\n",
       "      <td>14.666667</td>\n",
       "    </tr>\n",
       "    <tr>\n",
       "      <th>4</th>\n",
       "      <td>GP</td>\n",
       "      <td>F</td>\n",
       "      <td>16</td>\n",
       "      <td>U</td>\n",
       "      <td>GT3</td>\n",
       "      <td>T</td>\n",
       "      <td>3</td>\n",
       "      <td>3</td>\n",
       "      <td>other</td>\n",
       "      <td>other</td>\n",
       "      <td>...</td>\n",
       "      <td>3</td>\n",
       "      <td>2</td>\n",
       "      <td>1</td>\n",
       "      <td>2</td>\n",
       "      <td>5</td>\n",
       "      <td>4</td>\n",
       "      <td>10</td>\n",
       "      <td>10</td>\n",
       "      <td>10</td>\n",
       "      <td>10.000000</td>\n",
       "    </tr>\n",
       "  </tbody>\n",
       "</table>\n",
       "<p>5 rows × 34 columns</p>\n",
       "</div>"
      ],
      "text/plain": [
       "  school sex  age address famsize Pstatus  Medu  Fedu     Mjob      Fjob  ...  \\\n",
       "0     GP   F   18       U     GT3       A     4     4  at_home   teacher  ...   \n",
       "1     GP   F   17       U     GT3       T     1     1  at_home     other  ...   \n",
       "2     GP   F   16       U     LE3       T     1     1  at_home     other  ...   \n",
       "3     GP   F   15       U     GT3       T     4     2   health  services  ...   \n",
       "4     GP   F   16       U     GT3       T     3     3    other     other  ...   \n",
       "\n",
       "  freetime goout  Dalc  Walc  health absences  G1  G2  G3    G_Final  \n",
       "0        3     4     1     1       3        6   5   6  10   7.000000  \n",
       "1        3     3     1     1       3        4   5   5   6   5.333333  \n",
       "2        3     2     2     3       3       10   7  10  10   9.000000  \n",
       "3        3     2     1     1       5        2  15  14  15  14.666667  \n",
       "4        3     2     1     2       5        4  10  10  10  10.000000  \n",
       "\n",
       "[5 rows x 34 columns]"
      ]
     },
     "execution_count": 13,
     "metadata": {},
     "output_type": "execute_result"
    }
   ],
   "source": [
    "df['G_Final'] = (df['G1'] + df['G2'] + df['G3']) / 3\n",
    "\n",
    "df.head()"
   ]
  },
  {
   "cell_type": "markdown",
   "id": "e86fcebf",
   "metadata": {},
   "source": [
    "The data set is now complete with all the missing data replaced with the mean values as calculated above."
   ]
  },
  {
   "cell_type": "markdown",
   "id": "98049b65",
   "metadata": {},
   "source": [
    "## Data stories and visualizations"
   ]
  },
  {
   "cell_type": "markdown",
   "id": "ad6fb696",
   "metadata": {},
   "source": [
    "In this section of the EDA we will extract stories and assumptions based on visualizations of the data set"
   ]
  },
  {
   "cell_type": "markdown",
   "id": "1e0ec7a8",
   "metadata": {},
   "source": [
    "## Gender analysis"
   ]
  },
  {
   "cell_type": "markdown",
   "id": "d1ebe912",
   "metadata": {},
   "source": [
    "Below is a pie chart showing the percentage of students divided by gender"
   ]
  },
  {
   "cell_type": "code",
   "execution_count": 14,
   "id": "b981c269",
   "metadata": {},
   "outputs": [
    {
     "name": "stdout",
     "output_type": "stream",
     "text": [
      "F    208\n",
      "M    187\n",
      "Name: sex, dtype: int64\n"
     ]
    },
    {
     "data": {
      "image/png": "[encoded data removed]",
      "text/plain": [
       "<Figure size 720x720 with 1 Axes>"
      ]
     },
     "metadata": {},
     "output_type": "display_data"
    }
   ],
   "source": [
    "df.sex.value_counts().plot(kind = 'pie', figsize=(10,10), autopct = '%1.1f%%', shadow=True, explode=[0.05, 0.05])\n",
    "print(df.sex.value_counts())"
   ]
  },
  {
   "cell_type": "markdown",
   "id": "2b12a1e9",
   "metadata": {},
   "source": [
    "### Results "
   ]
  },
  {
   "cell_type": "markdown",
   "id": "1cfc06ce",
   "metadata": {},
   "source": [
    "The number of female students is slightly higher than the male students at 52.7%. "
   ]
  },
  {
   "cell_type": "markdown",
   "id": "83b9a764",
   "metadata": {},
   "source": [
    "## Mother's job title (Mjob) analysis"
   ]
  },
  {
   "cell_type": "markdown",
   "id": "71a2fbbe",
   "metadata": {},
   "source": [
    "In this section we will look at the different job titles for Mothers. The code below will print a list with the sum of the amount and a pie chart with the percentages."
   ]
  },
  {
   "cell_type": "code",
   "execution_count": 15,
   "id": "e9844388",
   "metadata": {},
   "outputs": [
    {
     "name": "stdout",
     "output_type": "stream",
     "text": [
      "other       141\n",
      "services    103\n",
      "at_home      59\n",
      "teacher      58\n",
      "health       34\n",
      "Name: Mjob, dtype: int64\n"
     ]
    },
    {
     "data": {
      "image/png": "[encoded data removed]",
      "text/plain": [
       "<Figure size 720x720 with 1 Axes>"
      ]
     },
     "metadata": {},
     "output_type": "display_data"
    }
   ],
   "source": [
    "df.Mjob.value_counts().plot(kind = 'pie', figsize=(10,10), autopct = '%1.1f%%')\n",
    "print(df.Mjob.value_counts())"
   ]
  },
  {
   "cell_type": "markdown",
   "id": "271dba37",
   "metadata": {},
   "source": [
    "## Farther's job title (Fjob) analysis"
   ]
  },
  {
   "cell_type": "markdown",
   "id": "aae0320e",
   "metadata": {},
   "source": [
    "In this section we will look at the different job titles for Fathers. The code below will print a list with the sum of the amount and a pie chart with the percentages."
   ]
  },
  {
   "cell_type": "code",
   "execution_count": 16,
   "id": "9569a0d0",
   "metadata": {},
   "outputs": [
    {
     "name": "stdout",
     "output_type": "stream",
     "text": [
      "other       217\n",
      "services    111\n",
      "teacher      29\n",
      "at_home      20\n",
      "health       18\n",
      "Name: Fjob, dtype: int64\n"
     ]
    },
    {
     "data": {
      "image/png": "[encoded data removed]",
      "text/plain": [
       "<Figure size 720x720 with 1 Axes>"
      ]
     },
     "metadata": {},
     "output_type": "display_data"
    }
   ],
   "source": [
    "df.Fjob.value_counts().plot(kind = 'pie', figsize=(10,10), autopct = '%1.1f%%')\n",
    "print(df.Fjob.value_counts())"
   ]
  },
  {
   "cell_type": "markdown",
   "id": "98124a89",
   "metadata": {},
   "source": [
    "### Results "
   ]
  },
  {
   "cell_type": "markdown",
   "id": "00b129e3",
   "metadata": {},
   "source": [
    "* The results show for both pie charts that 'other' is the majority percentage of the occupations\n",
    "* 'Health' and 'Teacher' has the lowest percentage as it is specialised occupations"
   ]
  },
  {
   "cell_type": "markdown",
   "id": "917aa76c",
   "metadata": {},
   "source": [
    "## Final grade vs Absences "
   ]
  },
  {
   "cell_type": "markdown",
   "id": "934ca66b",
   "metadata": {},
   "source": [
    "We will now check if student absences have an effect on their final grades"
   ]
  },
  {
   "cell_type": "code",
   "execution_count": 20,
   "id": "8d5ee280",
   "metadata": {},
   "outputs": [
    {
     "data": {
      "text/plain": [
       "<AxesSubplot:xlabel='absences', ylabel='G_Final'>"
      ]
     },
     "execution_count": 20,
     "metadata": {},
     "output_type": "execute_result"
    },
    {
     "data": {
      "image/png": "[encoded data removed]",
      "text/plain": [
       "<Figure size 720x576 with 1 Axes>"
      ]
     },
     "metadata": {
      "needs_background": "light"
     },
     "output_type": "display_data"
    }
   ],
   "source": [
    "fig = plt.figure(figsize=(10, 8))\n",
    "sns.regplot(x='absences', y='G_Final', data=df)"
   ]
  },
  {
   "cell_type": "markdown",
   "id": "d37f4eb7",
   "metadata": {},
   "source": [
    "### Results "
   ]
  },
  {
   "cell_type": "markdown",
   "id": "46dd85cb",
   "metadata": {},
   "source": [
    "Looking at the scatter distribution, it seems like student absences had no effect on their final grades. This might be because the students caught up on the missed work after school at their own time."
   ]
  },
  {
   "cell_type": "markdown",
   "id": "720f4071",
   "metadata": {},
   "source": [
    "## Grade vs Age "
   ]
  },
  {
   "cell_type": "markdown",
   "id": "47c6ca6a",
   "metadata": {},
   "source": [
    "In this section we will compare the grades to the ages of the students. Below is a histogram showing that younger students have higher grades."
   ]
  },
  {
   "cell_type": "code",
   "execution_count": 21,
   "id": "b509d69c",
   "metadata": {},
   "outputs": [
    {
     "data": {
      "text/plain": [
       "<AxesSubplot:xlabel='age', ylabel='Count'>"
      ]
     },
     "execution_count": 21,
     "metadata": {},
     "output_type": "execute_result"
    },
    {
     "data": {
      "image/png": "[encoded data removed]",
      "text/plain": [
       "<Figure size 720x576 with 1 Axes>"
      ]
     },
     "metadata": {
      "needs_background": "light"
     },
     "output_type": "display_data"
    }
   ],
   "source": [
    "fig = plt.figure(figsize=(10, 8))\n",
    "sns.histplot(x='age', data=df, kde=True)"
   ]
  },
  {
   "cell_type": "markdown",
   "id": "093bf369",
   "metadata": {},
   "source": [
    "To improve the visualisations, we will treat 'age' as categorical instead of numerical"
   ]
  },
  {
   "cell_type": "code",
   "execution_count": 22,
   "id": "7f1587de",
   "metadata": {},
   "outputs": [
    {
     "data": {
      "text/html": [
       "<div>\n",
       "<style scoped>\n",
       "    .dataframe tbody tr th:only-of-type {\n",
       "        vertical-align: middle;\n",
       "    }\n",
       "\n",
       "    .dataframe tbody tr th {\n",
       "        vertical-align: top;\n",
       "    }\n",
       "\n",
       "    .dataframe thead th {\n",
       "        text-align: right;\n",
       "    }\n",
       "</style>\n",
       "<table border=\"1\" class=\"dataframe\">\n",
       "  <thead>\n",
       "    <tr style=\"text-align: right;\">\n",
       "      <th></th>\n",
       "      <th>age</th>\n",
       "      <th>G_Final</th>\n",
       "      <th>G1</th>\n",
       "      <th>G2</th>\n",
       "      <th>G3</th>\n",
       "    </tr>\n",
       "  </thead>\n",
       "  <tbody>\n",
       "    <tr>\n",
       "      <th>0</th>\n",
       "      <td>15</td>\n",
       "      <td>11.051282</td>\n",
       "      <td>11.051282</td>\n",
       "      <td>10.987179</td>\n",
       "      <td>11.115385</td>\n",
       "    </tr>\n",
       "    <tr>\n",
       "      <th>1</th>\n",
       "      <td>16</td>\n",
       "      <td>10.856725</td>\n",
       "      <td>10.789474</td>\n",
       "      <td>11.043860</td>\n",
       "      <td>10.736842</td>\n",
       "    </tr>\n",
       "    <tr>\n",
       "      <th>2</th>\n",
       "      <td>17</td>\n",
       "      <td>10.715789</td>\n",
       "      <td>10.978947</td>\n",
       "      <td>10.600000</td>\n",
       "      <td>10.568421</td>\n",
       "    </tr>\n",
       "    <tr>\n",
       "      <th>3</th>\n",
       "      <td>18</td>\n",
       "      <td>10.251029</td>\n",
       "      <td>10.814815</td>\n",
       "      <td>10.135802</td>\n",
       "      <td>9.802469</td>\n",
       "    </tr>\n",
       "    <tr>\n",
       "      <th>4</th>\n",
       "      <td>19</td>\n",
       "      <td>9.181818</td>\n",
       "      <td>10.363636</td>\n",
       "      <td>9.136364</td>\n",
       "      <td>8.045455</td>\n",
       "    </tr>\n",
       "    <tr>\n",
       "      <th>5</th>\n",
       "      <td>20</td>\n",
       "      <td>13.777778</td>\n",
       "      <td>13.666667</td>\n",
       "      <td>13.666667</td>\n",
       "      <td>14.000000</td>\n",
       "    </tr>\n",
       "    <tr>\n",
       "      <th>6</th>\n",
       "      <td>21</td>\n",
       "      <td>9.333333</td>\n",
       "      <td>10.000000</td>\n",
       "      <td>8.000000</td>\n",
       "      <td>10.000000</td>\n",
       "    </tr>\n",
       "    <tr>\n",
       "      <th>7</th>\n",
       "      <td>22</td>\n",
       "      <td>7.333333</td>\n",
       "      <td>6.000000</td>\n",
       "      <td>8.000000</td>\n",
       "      <td>8.000000</td>\n",
       "    </tr>\n",
       "  </tbody>\n",
       "</table>\n",
       "</div>"
      ],
      "text/plain": [
       "   age    G_Final         G1         G2         G3\n",
       "0   15  11.051282  11.051282  10.987179  11.115385\n",
       "1   16  10.856725  10.789474  11.043860  10.736842\n",
       "2   17  10.715789  10.978947  10.600000  10.568421\n",
       "3   18  10.251029  10.814815  10.135802   9.802469\n",
       "4   19   9.181818  10.363636   9.136364   8.045455\n",
       "5   20  13.777778  13.666667  13.666667  14.000000\n",
       "6   21   9.333333  10.000000   8.000000  10.000000\n",
       "7   22   7.333333   6.000000   8.000000   8.000000"
      ]
     },
     "execution_count": 22,
     "metadata": {},
     "output_type": "execute_result"
    }
   ],
   "source": [
    "age_cat = df.groupby(\"age\").aggregate({'G_Final': 'mean', 'G1': 'mean', 'G2': 'mean', 'G3': 'mean'})\n",
    "\n",
    "age_cat.reset_index(inplace=True)\n",
    "\n",
    "age_cat"
   ]
  },
  {
   "cell_type": "code",
   "execution_count": 25,
   "id": "92d7313d",
   "metadata": {},
   "outputs": [
    {
     "data": {
      "image/png": "[encoded data removed]",
      "text/plain": [
       "<Figure size 432x288 with 1 Axes>"
      ]
     },
     "metadata": {
      "needs_background": "light"
     },
     "output_type": "display_data"
    },
    {
     "data": {
      "image/png": "[encoded data removed]",
      "text/plain": [
       "<Figure size 432x288 with 1 Axes>"
      ]
     },
     "metadata": {
      "needs_background": "light"
     },
     "output_type": "display_data"
    },
    {
     "data": {
      "image/png": "[encoded data removed]",
      "text/plain": [
       "<Figure size 432x288 with 1 Axes>"
      ]
     },
     "metadata": {
      "needs_background": "light"
     },
     "output_type": "display_data"
    },
    {
     "data": {
      "image/png": "[encoded data removed]",
      "text/plain": [
       "<Figure size 432x288 with 1 Axes>"
      ]
     },
     "metadata": {
      "needs_background": "light"
     },
     "output_type": "display_data"
    }
   ],
   "source": [
    "all_grades = ['G1', 'G2', 'G3', 'G_Final']\n",
    "\n",
    "for grade in all_grades:\n",
    "    sns.barplot(data=age_cat, x='age', y=grade, palette='summer').set(xlabel='Age', ylabel=grade, title=f'Age vs. {grade}')\n",
    "    plt.show()"
   ]
  },
  {
   "cell_type": "markdown",
   "id": "cec8af0a",
   "metadata": {},
   "source": [
    "### Results "
   ]
  },
  {
   "cell_type": "markdown",
   "id": "015da433",
   "metadata": {},
   "source": [
    "It is clear from the bar charts that the younger students have better grades, the only exception is that 20 year olds have the highest grades overall."
   ]
  },
  {
   "cell_type": "markdown",
   "id": "185aeb24",
   "metadata": {},
   "source": [
    "## Parents occupation WordClouds "
   ]
  },
  {
   "cell_type": "markdown",
   "id": "2d60d87d",
   "metadata": {},
   "source": [
    "Below is a WordCloud of the occupations the parents do. "
   ]
  },
  {
   "cell_type": "code",
   "execution_count": 28,
   "id": "22dd3d83",
   "metadata": {},
   "outputs": [
    {
     "data": {
      "image/png": "[encoded data removed]",
      "text/plain": [
       "<Figure size 432x288 with 1 Axes>"
      ]
     },
     "metadata": {
      "needs_background": "light"
     },
     "output_type": "display_data"
    }
   ],
   "source": [
    "from wordcloud import WordCloud\n",
    "\n",
    "text_M = df['Mjob'].values\n",
    "\n",
    "wordcloud = WordCloud().generate(str(text_M))\n",
    "\n",
    "plt.imshow(wordcloud)\n",
    "plt.axis(\"off\")\n",
    "plt.show()"
   ]
  },
  {
   "cell_type": "markdown",
   "id": "032c8f59",
   "metadata": {},
   "source": [
    "## Parents' Job vs Education levels"
   ]
  },
  {
   "cell_type": "markdown",
   "id": "05649578",
   "metadata": {},
   "source": [
    "Here we will compare the Parents' Job to their Education levels"
   ]
  },
  {
   "cell_type": "markdown",
   "id": "5d1f23bc",
   "metadata": {},
   "source": [
    "### Mothers' data"
   ]
  },
  {
   "cell_type": "code",
   "execution_count": 35,
   "id": "966b3c72",
   "metadata": {},
   "outputs": [
    {
     "data": {
      "text/plain": [
       "[Text(0.5, 0, 'Job'),\n",
       " Text(0, 0.5, 'Education Level.'),\n",
       " Text(0.5, 1.0, 'Parents Job vs Education level (Mother)')]"
      ]
     },
     "execution_count": 35,
     "metadata": {},
     "output_type": "execute_result"
    },
    {
     "data": {
      "image/png": "[encoded data removed]",
      "text/plain": [
       "<Figure size 720x576 with 1 Axes>"
      ]
     },
     "metadata": {
      "needs_background": "light"
     },
     "output_type": "display_data"
    }
   ],
   "source": [
    "fig = plt.figure(figsize=(10, 8))\n",
    "\n",
    "mjob_edu = df.groupby(\"Mjob\").aggregate({\"Medu\": \"mean\"})\n",
    "\n",
    "mjob_edu.reset_index(inplace=True)\n",
    "\n",
    "mjob_edu.sort_values(by='Medu', ascending=False, inplace=True)\n",
    "\n",
    "sns.barplot(x='Mjob', y='Medu', data=mjob_edu).set(xlabel='Job', ylabel='Education Level.', \n",
    "                                                   title='Parents Job vs Education level (Mother)')"
   ]
  },
  {
   "cell_type": "markdown",
   "id": "1f880b31",
   "metadata": {},
   "source": [
    "### Fathers' data"
   ]
  },
  {
   "cell_type": "code",
   "execution_count": 36,
   "id": "d4d0c1f6",
   "metadata": {},
   "outputs": [
    {
     "data": {
      "text/plain": [
       "[Text(0.5, 0, 'Job'),\n",
       " Text(0, 0.5, 'Education Level.'),\n",
       " Text(0.5, 1.0, 'Parents Job vs Education level (Father)')]"
      ]
     },
     "execution_count": 36,
     "metadata": {},
     "output_type": "execute_result"
    },
    {
     "data": {
      "image/png": "[encoded data removed]",
      "text/plain": [
       "<Figure size 720x576 with 1 Axes>"
      ]
     },
     "metadata": {
      "needs_background": "light"
     },
     "output_type": "display_data"
    }
   ],
   "source": [
    "fig = plt.figure(figsize=(10, 8))\n",
    "\n",
    "fjob_edu = df.groupby(\"Fjob\").aggregate({\"Fedu\": \"mean\"})\n",
    "\n",
    "fjob_edu.reset_index(inplace=True)\n",
    "\n",
    "fjob_edu.sort_values(by='Fedu', ascending=False, inplace=True)\n",
    "\n",
    "sns.barplot(x='Fjob', y='Fedu', data=fjob_edu).set(xlabel='Job', ylabel='Education Level.', \n",
    "                                                   title='Parents Job vs Education level (Father)')"
   ]
  },
  {
   "cell_type": "markdown",
   "id": "23409cc2",
   "metadata": {},
   "source": [
    "### Results "
   ]
  },
  {
   "cell_type": "markdown",
   "id": "509d3eb5",
   "metadata": {},
   "source": [
    "For both Mothers and Fathers 'teacher' and 'Health' has the highest education level. This is because these two professions are specialised."
   ]
  },
  {
   "cell_type": "code",
   "execution_count": null,
   "id": "e0ed9a41",
   "metadata": {},
   "outputs": [],
   "source": []
  }
 ],
 "metadata": {
  "kernelspec": {
   "display_name": "Python 3 (ipykernel)",
   "language": "python",
   "name": "python3"
  },
  "language_info": {
   "codemirror_mode": {
    "name": "ipython",
    "version": 3
   },
   "file_extension": ".py",
   "mimetype": "text/x-python",
   "name": "python",
   "nbconvert_exporter": "python",
   "pygments_lexer": "ipython3",
   "version": "3.10.5"
  }
 },
 "nbformat": 4,
 "nbformat_minor": 5
}
